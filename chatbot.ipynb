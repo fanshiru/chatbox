{
 "cells": [
  {
   "cell_type": "code",
   "execution_count": null,
   "id": "22e0a7c1",
   "metadata": {},
   "outputs": [
    {
     "name": "stderr",
     "output_type": "stream",
     "text": [
      "2023-02-17 22:01:07,106 - apscheduler.scheduler - INFO - Scheduler started\n",
      "2023-02-17 22:01:26,955 - root - INFO - Update: {'update_id': 590608105, 'message': {'date': 1676642487, 'chat': {'id': 6040069137, 'first_name': 'Shiru', 'type': 'private', 'last_name': 'Fan'}, 'new_chat_photo': [], 'entities': [], 'supergroup_chat_created': False, 'caption_entities': [], 'group_chat_created': False, 'new_chat_members': [], 'channel_chat_created': False, 'text': '你好', 'delete_chat_photo': False, 'photo': [], 'message_id': 4, 'from': {'language_code': 'zh-hans', 'first_name': 'Shiru', 'id': 6040069137, 'is_bot': False, 'last_name': 'Fan'}}}\n",
      "2023-02-17 22:01:26,962 - root - INFO - context: <telegram.ext.callbackcontext.CallbackContext object at 0x0000018BF489BD60>\n",
      "2023-02-17 22:02:02,411 - root - INFO - Update: {'update_id': 590608106, 'message': {'date': 1676642522, 'chat': {'id': 6040069137, 'first_name': 'Shiru', 'type': 'private', 'last_name': 'Fan'}, 'new_chat_photo': [], 'entities': [], 'supergroup_chat_created': False, 'caption_entities': [], 'group_chat_created': False, 'new_chat_members': [], 'channel_chat_created': False, 'text': '你叫什么', 'delete_chat_photo': False, 'photo': [], 'message_id': 6, 'from': {'language_code': 'zh-hans', 'first_name': 'Shiru', 'id': 6040069137, 'is_bot': False, 'last_name': 'Fan'}}}\n",
      "2023-02-17 22:02:02,415 - root - INFO - context: <telegram.ext.callbackcontext.CallbackContext object at 0x0000018BF489BD60>\n",
      "2023-02-17 22:02:08,120 - root - INFO - Update: {'update_id': 590608107, 'message': {'date': 1676642528, 'chat': {'id': 6040069137, 'first_name': 'Shiru', 'type': 'private', 'last_name': 'Fan'}, 'new_chat_photo': [], 'entities': [], 'supergroup_chat_created': False, 'caption_entities': [], 'group_chat_created': False, 'new_chat_members': [], 'channel_chat_created': False, 'text': '我们做好朋友', 'delete_chat_photo': False, 'photo': [], 'message_id': 8, 'from': {'language_code': 'zh-hans', 'first_name': 'Shiru', 'id': 6040069137, 'is_bot': False, 'last_name': 'Fan'}}}\n",
      "2023-02-17 22:02:08,123 - root - INFO - context: <telegram.ext.callbackcontext.CallbackContext object at 0x0000018BF489BEB0>\n",
      "2023-02-17 22:02:13,149 - root - INFO - Update: {'update_id': 590608108, 'message': {'date': 1676642533, 'chat': {'id': 6040069137, 'first_name': 'Shiru', 'type': 'private', 'last_name': 'Fan'}, 'new_chat_photo': [], 'entities': [], 'supergroup_chat_created': False, 'caption_entities': [], 'group_chat_created': False, 'new_chat_members': [], 'channel_chat_created': False, 'text': 'hello', 'delete_chat_photo': False, 'photo': [], 'message_id': 10, 'from': {'language_code': 'zh-hans', 'first_name': 'Shiru', 'id': 6040069137, 'is_bot': False, 'last_name': 'Fan'}}}\n",
      "2023-02-17 22:02:13,152 - root - INFO - context: <telegram.ext.callbackcontext.CallbackContext object at 0x0000018BF489BD60>\n"
     ]
    }
   ],
   "source": [
    "## chatbot.py\n",
    "import telegram\n",
    "from telegram.ext import Updater, MessageHandler, Filters\n",
    "# The messageHandler is used for all message updates\n",
    "import configparser\n",
    "import logging\n",
    "def main():\n",
    "# Load your token and create an Updater for your Bot\n",
    "    config = configparser.ConfigParser()\n",
    "    config.read('config.ini')\n",
    "    updater = Updater(token=(config['TELEGRAM']['ACCESS_TOKEN']), use_context=True)\n",
    "    dispatcher = updater.dispatcher\n",
    "    # You can set this logging module, so you will know when and why things do not\n",
    "\n",
    "    logging.basicConfig(format='%(asctime)s - %(name)s - %(levelname)s - %(message)s',level=logging.INFO)\n",
    "    # register a dispatcher to handle message: here we register an echo dispatcher\n",
    "    echo_handler = MessageHandler(Filters.text & (~Filters.command), echo)\n",
    "    dispatcher.add_handler(echo_handler)\n",
    "    # To start the bot:\n",
    "    updater.start_polling()\n",
    "    updater.idle()\n",
    "    \n",
    "def echo(update, context):\n",
    "    reply_message = update.message.text.upper()\n",
    "    logging.info(\"Update: \" + str(update))\n",
    "    logging.info(\"context: \" + str(context))\n",
    "    context.bot.send_message(chat_id=update.effective_chat.id, text= reply_message)\n",
    "    \n",
    "if __name__ == '__main__':\n",
    "    main()"
   ]
  },
  {
   "cell_type": "code",
   "execution_count": null,
   "id": "be5256d4",
   "metadata": {},
   "outputs": [],
   "source": []
  },
  {
   "cell_type": "code",
   "execution_count": null,
   "id": "dd7ff444",
   "metadata": {},
   "outputs": [],
   "source": []
  }
 ],
 "metadata": {
  "kernelspec": {
   "display_name": "Python 3 (ipykernel)",
   "language": "python",
   "name": "python3"
  },
  "language_info": {
   "codemirror_mode": {
    "name": "ipython",
    "version": 3
   },
   "file_extension": ".py",
   "mimetype": "text/x-python",
   "name": "python",
   "nbconvert_exporter": "python",
   "pygments_lexer": "ipython3",
   "version": "3.9.7"
  }
 },
 "nbformat": 4,
 "nbformat_minor": 5
}
