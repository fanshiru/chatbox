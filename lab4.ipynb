{
 "cells": [
  {
   "cell_type": "code",
   "execution_count": null,
   "id": "77671a7f",
   "metadata": {},
   "outputs": [
    {
     "name": "stderr",
     "output_type": "stream",
     "text": [
      "2023-02-18 15:04:23,360 - apscheduler.scheduler - INFO - Scheduler started\n",
      "2023-02-18 15:04:44,557 - root - INFO - shiru\n"
     ]
    }
   ],
   "source": [
    "from telegram import Update\n",
    "from telegram.ext import Updater, CommandHandler, MessageHandler, Filters,CallbackContext\n",
    "import configparser\n",
    "import logging\n",
    "import redis\n",
    "global redis1\n",
    "def main():\n",
    "# Load your token and create an Updater for your Bot\n",
    "    config = configparser.ConfigParser()\n",
    "    config.read('config.ini')\n",
    "    updater = Updater(token=(config['TELEGRAM']['ACCESS_TOKEN']), use_context=True)\n",
    "    dispatcher = updater.dispatcher\n",
    "    global redis1\n",
    "    redis1 = redis.Redis(host=(config['REDIS']['HOST']), password=(config['REDIS']['PASSWORD']), port=(config['REDIS']['REDISPORT']))\n",
    "# You can set this logging module, so you will know when and why things do not\n",
    "\n",
    "    logging.basicConfig(format='%(asctime)s - %(name)s - %(levelname)s - %(message)s',level=logging.INFO)\n",
    "# register a dispatcher to handle message: here we register an echo dispatcher\n",
    "    echo_handler = MessageHandler(Filters.text & (~Filters.command), echo)\n",
    "    dispatcher.add_handler(echo_handler)\n",
    "# on different commands - answer in Telegram\n",
    "    dispatcher.add_handler(CommandHandler(\"add\", add))\n",
    "    dispatcher.add_handler(CommandHandler(\"help\", help_command))\n",
    "    dispatcher.add_handler(CommandHandler(\"hello\", hello))\n",
    "# To start the bot:\n",
    "    updater.start_polling()\n",
    "    updater.idle()\n",
    "def echo(update, context):\n",
    "    reply_message = update.message.text.upper()\n",
    "    logging.info(\"Update: \" + str(update))\n",
    "    logging.info(\"context: \" + str(context))\n",
    "    context.bot.send_message(chat_id=update.effective_chat.id, text= reply_message)\n",
    "# Define a few command handlers. These usually take the two arguments update and\n",
    "# context. Error handlers also receive the raised TelegramError object in error.\n",
    "def help_command(update: Update, context: CallbackContext) -> None:\n",
    "    \"\"\"Send a message when the command /help is issued.\"\"\"\n",
    "    update.message.reply_text('Helping you helping you.')\n",
    "def add(update: Update, context: CallbackContext) -> None:\n",
    "    \"\"\"Send a message when the command /add is issued.\"\"\"\n",
    "    try:\n",
    "        global redis1\n",
    "        logging.info(context.args[0])\n",
    "        msg = context.args[0] # /add keyword <-- this should store the keyword\n",
    "        redis1.incr(msg)\n",
    "        update.message.reply_text('You have said ' + msg + ' for ' +redis1.get(msg).decode('UTF-8') + ' times.')\n",
    "    except (IndexError, ValueError):\n",
    "        update.message.reply_text('Usage: /add <keyword>')\n",
    "def hello(update: Update, context: CallbackContext) -> None:\n",
    "    \"\"\"Send a message when the command /add is issued.\"\"\"\n",
    "    try:\n",
    "        global redis1\n",
    "        logging.info(context.args[0])\n",
    "        msg1 = context.args[0] # /add keyword <-- this should store the keyword\n",
    "        redis1.incr(msg1)\n",
    "        update.message.reply_text(' Good day, ' + msg1 + ' ! ')\n",
    "    except (IndexError, ValueError):\n",
    "        update.message.reply_text('Usage: /hello <keyword>')\n",
    "if __name__ == '__main__':\n",
    "    main()"
   ]
  },
  {
   "cell_type": "code",
   "execution_count": null,
   "id": "9199beac",
   "metadata": {},
   "outputs": [],
   "source": []
  },
  {
   "cell_type": "code",
   "execution_count": null,
   "id": "bd67a74e",
   "metadata": {},
   "outputs": [],
   "source": []
  },
  {
   "cell_type": "code",
   "execution_count": null,
   "id": "9d4beff9",
   "metadata": {},
   "outputs": [],
   "source": []
  }
 ],
 "metadata": {
  "kernelspec": {
   "display_name": "Python 3 (ipykernel)",
   "language": "python",
   "name": "python3"
  },
  "language_info": {
   "codemirror_mode": {
    "name": "ipython",
    "version": 3
   },
   "file_extension": ".py",
   "mimetype": "text/x-python",
   "name": "python",
   "nbconvert_exporter": "python",
   "pygments_lexer": "ipython3",
   "version": "3.9.7"
  }
 },
 "nbformat": 4,
 "nbformat_minor": 5
}
